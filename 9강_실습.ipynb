{
  "nbformat": 4,
  "nbformat_minor": 0,
  "metadata": {
    "colab": {
      "provenance": [],
      "include_colab_link": true
    },
    "kernelspec": {
      "name": "python3",
      "display_name": "Python 3"
    },
    "language_info": {
      "name": "python"
    }
  },
  "cells": [
    {
      "cell_type": "markdown",
      "metadata": {
        "id": "view-in-github",
        "colab_type": "text"
      },
      "source": [
        "<a href=\"https://colab.research.google.com/github/kimyewon97/Python-Programming/blob/main/9%EA%B0%95_%EC%8B%A4%EC%8A%B5.ipynb\" target=\"_parent\"><img src=\"https://colab.research.google.com/assets/colab-badge.svg\" alt=\"Open In Colab\"/></a>"
      ]
    },
    {
      "cell_type": "markdown",
      "source": [
        "# 9강 1절"
      ],
      "metadata": {
        "id": "CAj_VKRq4Mhy"
      }
    },
    {
      "cell_type": "markdown",
      "source": [
        "**원뿔 부피 계산 함수 정의**"
      ],
      "metadata": {
        "id": "-0FrgkDm_YRK"
      }
    },
    {
      "cell_type": "code",
      "execution_count": 22,
      "metadata": {
        "id": "OhGWjvMSf_uP"
      },
      "outputs": [],
      "source": [
        "#사용자 정의 함수\n",
        "def prt_cone_vol(r, h):\n",
        "    if r > 0 and h > 0 :\n",
        "        # r, h 모두 양수일 때\n",
        "        vol = 1/3 * 3.14 * r ** 2 * h\n",
        "        print(\"원뿔의 부피는\", vol, \"입니다.\")\n",
        "    else :\n",
        "        # r, h가 음수일 때\n",
        "        print(\"반지름과 높이 값에 양수를 입력하세요\")"
      ]
    },
    {
      "cell_type": "markdown",
      "source": [
        "**원뿔 부피 계산 함수 호출**"
      ],
      "metadata": {
        "id": "ygj-h_dt_elG"
      }
    },
    {
      "cell_type": "code",
      "source": [
        "radius = 20\n",
        "heigth = 30\n",
        "\n",
        "prt_cone_vol(radius, heigth)"
      ],
      "metadata": {
        "id": "Kgl7g457gFnj",
        "colab": {
          "base_uri": "https://localhost:8080/"
        },
        "outputId": "ce03fbc3-bcd3-463e-cc91-5e82f66eb1aa"
      },
      "execution_count": 2,
      "outputs": [
        {
          "output_type": "stream",
          "name": "stdout",
          "text": [
            "원뿔의 부피는 12559.999999999998 입니다.\n"
          ]
        }
      ]
    },
    {
      "cell_type": "markdown",
      "source": [
        "**숫자를 입력받고 역순으로 출력하는 함수를 사용한 프로그램 문제**"
      ],
      "metadata": {
        "id": "3T0GpqYK_jXA"
      }
    },
    {
      "cell_type": "code",
      "source": [
        "num = 1234\n",
        "\n",
        "def reverse_number(num):\n",
        "    while num != 0:\n",
        "        digit = num % 10\n",
        "        num = num // 10\n",
        "        print(digit, end = \"\")\n",
        "    # end=\"\": 개행문자 대신 한 줄에 이어서 출력\n",
        "\n",
        "reverse_number(num)"
      ],
      "metadata": {
        "id": "nsHHCmKB_pnQ",
        "colab": {
          "base_uri": "https://localhost:8080/"
        },
        "outputId": "fbc1fccb-1a71-4c90-ba19-a9f74fb2037d"
      },
      "execution_count": 16,
      "outputs": [
        {
          "output_type": "stream",
          "name": "stdout",
          "text": [
            "4321"
          ]
        }
      ]
    },
    {
      "cell_type": "markdown",
      "source": [
        "# 9강 2절"
      ],
      "metadata": {
        "id": "bw1IBTsp4wMv"
      }
    },
    {
      "cell_type": "code",
      "source": [
        "#format 함수\n",
        "# >10.2f\n",
        "# > : 오른쪽 정렬 방향, 10: 필드 폭, .2: 소수점 이하 자리수, f: 데이터 타입(실수)"
      ],
      "metadata": {
        "id": "5J7W8qAkrXsY"
      },
      "execution_count": null,
      "outputs": []
    },
    {
      "cell_type": "markdown",
      "source": [
        "**원뿔 부피 계산 결과 반환 함수 정의**"
      ],
      "metadata": {
        "id": "454aKvSdAI2a"
      }
    },
    {
      "cell_type": "code",
      "source": [
        "def rtn_cone_vol(r, h):\n",
        "    if r > 0 and h > 0:\n",
        "    # r, h 모두 양수일 때\n",
        "        vol = 1 / 3 * 3.14 * r ** 2 * h\n",
        "        return vol\n",
        "    else :\n",
        "        #r, h가 음수일 떄\n",
        "        print(\"반지름과 높이 값에 양수를 입력하세요.\")\n",
        "\n",
        "print(format(rtn_cone_vol(10, 20), \">0.3f\"), \"입니다.\", sep=\"\")"
      ],
      "metadata": {
        "id": "X8lfqqRBAQfV",
        "colab": {
          "base_uri": "https://localhost:8080/"
        },
        "outputId": "ebe0f40c-9aa0-43de-99dd-403a075c56b8"
      },
      "execution_count": 24,
      "outputs": [
        {
          "output_type": "stream",
          "name": "stdout",
          "text": [
            "2093.333입니다.\n"
          ]
        }
      ]
    },
    {
      "cell_type": "code",
      "source": [
        "#파이썬 만의 동시 할당의 개념\n",
        "#복수개의 변수에 값을 동시에 저장 -> 변수의 개수에 상응하는 값을 ,(콤마)로 나열\n",
        "# temp, season = 27, \"summer\"\n",
        "\n",
        "#교환(swap) -> 복수 개의 변수에 할당하는 값을 맞바꿈\n",
        "#temp를 사용하지 않아도 두 변수의 값을 바꿀 수 있음\n",
        "# rad, hei = hei, rad"
      ],
      "metadata": {
        "id": "6JWxUjzwtJK4"
      },
      "execution_count": null,
      "outputs": []
    },
    {
      "cell_type": "markdown",
      "source": [
        "**원뿔 부피 및 겉넓이 반환 함수 정의**"
      ],
      "metadata": {
        "id": "Ae2D5Cal_szh"
      }
    },
    {
      "cell_type": "code",
      "source": [
        "#원뿔 계산 함수 정의\n",
        "def rtn_cone_vol_surf(r, h):\n",
        "    if r > 0 and h > 0:\n",
        "    # r, h 모두 양수일 때\n",
        "        vol = 1 / 3 * 3.14 * r ** 2 * h\n",
        "        surf = 3.14 * r ** 2 + 3.14 * r * h\n",
        "        return vol, surf\n",
        "    else :\n",
        "        #r, h가 음수일 떄\n",
        "        print(\"반지름과 높이 값에 양수를 입력하세요.\")\n",
        "\n",
        "vol1, surf1 = rtn_cone_vol_surf(50, 100)\n",
        "print(vol1, \"입니다.\")\n",
        "print(surf1, \"입니다.\")"
      ],
      "metadata": {
        "id": "cwZ6g1au45RD",
        "colab": {
          "base_uri": "https://localhost:8080/"
        },
        "outputId": "95434ce6-575d-4476-98be-63a6ddc1579f"
      },
      "execution_count": 28,
      "outputs": [
        {
          "output_type": "stream",
          "name": "stdout",
          "text": [
            "261666.66666666666 입니다.\n",
            "23550.0 입니다.\n"
          ]
        }
      ]
    },
    {
      "cell_type": "markdown",
      "source": [
        "**세 개의 사용자 입력을 오름차순으로 정렬하는 함수를 이용하여 정렬된 값을 출력하는 문제**\n"
      ],
      "metadata": {
        "id": "0FMNpd_4Ah9j"
      }
    },
    {
      "cell_type": "code",
      "source": [
        "a = int(input(\"첫번째 숫자를 입력하세요: \"))\n",
        "b = int(input(\"두번째 숫자를 입력하세요: \"))\n",
        "c = int(input(\"세번째 숫자를 입력하세요: \"))\n",
        "\n",
        "def sort3(a, b, c) :\n",
        "    if a > b :\n",
        "        a, b = b, a\n",
        "    if a > c :\n",
        "        a, c = c, a\n",
        "    if b > c:\n",
        "        b, c = c, b\n",
        "\n",
        "    print(a, b, c)\n",
        "\n",
        "sort3(a, b, c)\n",
        "\n",
        "#원래의 a, b, c가 바뀌었는지 확인하기위한 출력\n",
        "print(\"출력 이후\", a, b, c)"
      ],
      "metadata": {
        "id": "toh-zjeLArWn",
        "colab": {
          "base_uri": "https://localhost:8080/"
        },
        "outputId": "26ea81ff-4145-4c60-a0c2-76bb5126be52"
      },
      "execution_count": 43,
      "outputs": [
        {
          "output_type": "stream",
          "name": "stdout",
          "text": [
            "첫번째 숫자를 입력하세요: 3\n",
            "두번째 숫자를 입력하세요: 1\n",
            "세번째 숫자를 입력하세요: 2\n",
            "1 2 3\n",
            "출력 이후 3 1 2\n"
          ]
        }
      ]
    },
    {
      "cell_type": "markdown",
      "source": [
        "# 9강 3절"
      ],
      "metadata": {
        "id": "7qOMFABd4y1t"
      }
    },
    {
      "cell_type": "markdown",
      "source": [
        "**값의 전달: 함수가 호출될 때, 값이 형식 매개변수에 전달**"
      ],
      "metadata": {
        "id": "pVwxXsFLBCY-"
      }
    },
    {
      "cell_type": "code",
      "source": [
        "def rtn_cone_vol(r, h):\n",
        "    if r > 0 and h > 0:\n",
        "    # r, h 모두 양수일 때\n",
        "        vol = 1 / 3 * 3.14 * r ** 2 * h\n",
        "        r, h = 0, 0\n",
        "        return vol\n",
        "    else :\n",
        "        #r, h가 음수일 떄\n",
        "        print(\"반지름과 높이 값에 양수를 입력하세요.\")\n",
        "\n",
        "r = 50\n",
        "h = 100\n",
        "print(format(rtn_cone_vol(r, h), \">0.3f\"))\n",
        "print(\"함수사용후\", r, h)\n",
        "\n",
        "# 함수 내부에서의 변수와 함수 외부에서의 변수는 다르다."
      ],
      "metadata": {
        "colab": {
          "base_uri": "https://localhost:8080/"
        },
        "id": "_Tyn9QpfpstE",
        "outputId": "1565407c-1f48-403a-af81-dd191dcc58aa"
      },
      "execution_count": 10,
      "outputs": [
        {
          "output_type": "stream",
          "name": "stdout",
          "text": [
            "261666.667\n",
            "함수사용후 50 100\n"
          ]
        }
      ]
    },
    {
      "cell_type": "markdown",
      "source": [
        "**변수의 스코프**"
      ],
      "metadata": {
        "id": "Wybq2K3yBJ8C"
      }
    },
    {
      "cell_type": "code",
      "source": [
        "x = 1\n",
        "print(\"1. x의 값은\", x)\n",
        "\n",
        "\n",
        "def inc(x) :\n",
        "    x = x + 1\n",
        "    print(\"2. x의 값은\", x)\n",
        "\n",
        "inc(x)\n",
        "print(\"3. x의 값은\", x)"
      ],
      "metadata": {
        "id": "cwoR_CQp45ti",
        "colab": {
          "base_uri": "https://localhost:8080/"
        },
        "outputId": "16d04621-f1a9-4d1e-a91a-94f08e67c63c"
      },
      "execution_count": 11,
      "outputs": [
        {
          "output_type": "stream",
          "name": "stdout",
          "text": [
            "1. x의 값은 1\n",
            "2. x의 값은 2\n",
            "3. x의 값은 1\n"
          ]
        }
      ]
    },
    {
      "cell_type": "code",
      "source": [
        "#함수 내 외부의 변수들로 인해 혼동되지 않도록 변수의 이름을 명확하게 지정해야 하고 되도록이면 내 외부 변수의 이름을 같게 지정하지 않는다."
      ],
      "metadata": {
        "id": "Hzf7lUCzrKtb"
      },
      "execution_count": null,
      "outputs": []
    },
    {
      "cell_type": "markdown",
      "source": [
        "**단위 원뿔(반지름 20, 높이 30)의 부피와 겉넓이를 출력하는 문제**  +\n",
        "매개변수를 입력하지 않으면 기본값이 적용되는 프로그램"
      ],
      "metadata": {
        "id": "YDpFj9zqBL35"
      }
    },
    {
      "cell_type": "code",
      "source": [
        "#기본 매개변수\n",
        "# -> 함수 오출 시 매개변수가 전달되지 않을 경우 기본값이 전달되는 매개변수"
      ],
      "metadata": {
        "id": "K7GSFjiHkDju"
      },
      "execution_count": null,
      "outputs": []
    },
    {
      "cell_type": "code",
      "source": [
        "# 원뿔 계산 함수 정의\n",
        "def rtn_cone_vol_surf(r = 20, h = 30) :\n",
        "    if r > 0 and h > 0 :\n",
        "        # r, h 모두 양수일 때\n",
        "        return 1/3 * 3.14 * r ** 2 * h, 3.14 * r ** 2 + 3.14 * r * h\n",
        "    else :\n",
        "        # r, h가 음수일 때\n",
        "        print(\"반지름과 높이 값에 양수를 입력하세요\")\n",
        "\n",
        "print(rtn_cone_vol_surf(100, 200))\n",
        "print(\"기본값:\", rtn_cone_vol_surf())"
      ],
      "metadata": {
        "id": "mzWTObQdBXHc",
        "colab": {
          "base_uri": "https://localhost:8080/"
        },
        "outputId": "7a0562e3-2e65-4940-e825-c1da330e923e"
      },
      "execution_count": 18,
      "outputs": [
        {
          "output_type": "stream",
          "name": "stdout",
          "text": [
            "(2093333.3333333333, 94200.0)\n",
            "기본값: (12559.999999999998, 3140.0)\n"
          ]
        }
      ]
    },
    {
      "cell_type": "markdown",
      "source": [
        "**여러개의 수를 입력받고 합과 평균을 반환하는는 var_sum_avg 함수를 사용하여, (20, 25, 10, 85, 100, 150)에 대한 합과 평균을 출력하는 프로그램을 작성하시오.**\n"
      ],
      "metadata": {
        "id": "WqqJAJ0ACOjj"
      }
    },
    {
      "cell_type": "code",
      "source": [
        "#파라미터의 개수가 정해지지 않았다면 파라미터로 넘어오는 값들은 시퀀스 형태로 전달"
      ],
      "metadata": {
        "id": "GDZkR-SKCVth"
      },
      "execution_count": null,
      "outputs": []
    },
    {
      "cell_type": "code",
      "source": [
        "def var_sum_avg(*numbers):\n",
        "    sum = 0\n",
        "    count = 0\n",
        "\n",
        "    for i in numbers:\n",
        "        sum = sum + i\n",
        "        count = count + 1\n",
        "\n",
        "    return sum, sum/count\n",
        "\n",
        "print(var_sum_avg(20, 25, 10, 85, 100, 150))"
      ],
      "metadata": {
        "colab": {
          "base_uri": "https://localhost:8080/"
        },
        "id": "T1eCzdm_tiXY",
        "outputId": "4fd44ea0-67ca-416c-af64-cad0acd0e104"
      },
      "execution_count": 23,
      "outputs": [
        {
          "output_type": "stream",
          "name": "stdout",
          "text": [
            "(390, 65.0)\n"
          ]
        }
      ]
    }
  ]
}