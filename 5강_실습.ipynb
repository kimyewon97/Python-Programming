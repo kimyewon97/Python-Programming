{
  "nbformat": 4,
  "nbformat_minor": 0,
  "metadata": {
    "colab": {
      "provenance": [],
      "include_colab_link": true
    },
    "kernelspec": {
      "name": "python3",
      "display_name": "Python 3"
    },
    "language_info": {
      "name": "python"
    }
  },
  "cells": [
    {
      "cell_type": "markdown",
      "metadata": {
        "id": "view-in-github",
        "colab_type": "text"
      },
      "source": [
        "<a href=\"https://colab.research.google.com/github/kimyewon97/Python-Programming/blob/main/5%EA%B0%95_%EC%8B%A4%EC%8A%B5.ipynb\" target=\"_parent\"><img src=\"https://colab.research.google.com/assets/colab-badge.svg\" alt=\"Open In Colab\"/></a>"
      ]
    },
    {
      "cell_type": "markdown",
      "source": [
        "# 5강 2절"
      ],
      "metadata": {
        "id": "QaMMtoihlN9D"
      }
    },
    {
      "cell_type": "markdown",
      "source": [
        "삼각형 출력하기"
      ],
      "metadata": {
        "id": "zsVGhzcxlSh2"
      }
    },
    {
      "cell_type": "code",
      "source": [],
      "metadata": {
        "id": "IBVEpnePFBDy"
      },
      "execution_count": null,
      "outputs": []
    },
    {
      "cell_type": "code",
      "execution_count": null,
      "metadata": {
        "id": "Uzg7FWgclGzv",
        "colab": {
          "base_uri": "https://localhost:8080/"
        },
        "outputId": "fe0cfc93-c07c-4638-d6bf-7e902181075f"
      },
      "outputs": [
        {
          "output_type": "stream",
          "name": "stdout",
          "text": [
            "*\n",
            "***\n",
            "*****\n",
            "*******\n"
          ]
        }
      ],
      "source": [
        "#순차적 구조\n",
        "print(\"*\")\n",
        "print(\"***\")\n",
        "print(\"*****\")\n",
        "print(\"*******\")"
      ]
    },
    {
      "cell_type": "code",
      "source": [
        "#imput 함수 사용하기\n",
        "rad = input('반지름의 값을 입력하세요: ')"
      ],
      "metadata": {
        "colab": {
          "base_uri": "https://localhost:8080/"
        },
        "id": "11V7xM5CQR-p",
        "outputId": "dd02aee4-87f5-4ab1-a7c1-f0c028cabe23"
      },
      "execution_count": null,
      "outputs": [
        {
          "name": "stdout",
          "output_type": "stream",
          "text": [
            "반지름의 값을 입력하세요: 30\n"
          ]
        }
      ]
    },
    {
      "cell_type": "markdown",
      "source": [
        "원뿔 계산 프로그램 개선"
      ],
      "metadata": {
        "id": "o1aoIihhlrBZ"
      }
    },
    {
      "cell_type": "code",
      "source": [
        "#반지름, 높이 값 할당\n",
        "rad = 20\n",
        "hei = 30\n",
        "#부피 출력0\n",
        "print(1 / 3 * 3.14 * rad ** 2 * hei )\n",
        "#겉넓이 출력\n",
        "print(3.14 * rad ** 2 + 3.14 * rad * hei)\n",
        "\n",
        "#단점\n",
        "#불친절하다.\n",
        "#내가 원할 때 마다 원뿔 계산기 처럼 이용할 수 없다."
      ],
      "metadata": {
        "id": "jzJqpbKgluL7"
      },
      "execution_count": null,
      "outputs": []
    },
    {
      "cell_type": "code",
      "source": [
        "#개선\n",
        "#반지름, 높이 값 할당\n",
        "rad = input(\"반지름 값을 입력하세요: \")\n",
        "hei = input(\"높이 값을 입력하세요: \")\n",
        "#부피 출력0\n",
        "print(1 / 3 * 3.14 * rad ** 2 * hei )\n",
        "#겉넓이 출력\n",
        "print(3.14 * rad ** 2 + 3.14 * rad * hei)\n",
        "\n",
        "#!!오류 발생!!\n",
        "#문법적으로 맞지만 명령문 오류 발생\n",
        "#input 함수는 들어가는 값이 모두 문자 그래서 오류 발생함."
      ],
      "metadata": {
        "colab": {
          "base_uri": "https://localhost:8080/",
          "height": 261
        },
        "id": "ci2QgqEDR9w4",
        "outputId": "2242daa6-f75e-4053-8ed2-097ec8a0b279"
      },
      "execution_count": null,
      "outputs": [
        {
          "name": "stdout",
          "output_type": "stream",
          "text": [
            "반지름 값을 입력하세요: 20 \n",
            "높이 값을 입력하세요: 30\n"
          ]
        },
        {
          "output_type": "error",
          "ename": "TypeError",
          "evalue": "unsupported operand type(s) for ** or pow(): 'str' and 'int'",
          "traceback": [
            "\u001b[0;31m---------------------------------------------------------------------------\u001b[0m",
            "\u001b[0;31mTypeError\u001b[0m                                 Traceback (most recent call last)",
            "\u001b[0;32m<ipython-input-6-a539a67119ac>\u001b[0m in \u001b[0;36m<cell line: 0>\u001b[0;34m()\u001b[0m\n\u001b[1;32m      4\u001b[0m \u001b[0mhei\u001b[0m \u001b[0;34m=\u001b[0m \u001b[0minput\u001b[0m\u001b[0;34m(\u001b[0m\u001b[0;34m\"높이 값을 입력하세요: \"\u001b[0m\u001b[0;34m)\u001b[0m\u001b[0;34m\u001b[0m\u001b[0;34m\u001b[0m\u001b[0m\n\u001b[1;32m      5\u001b[0m \u001b[0;31m#부피 출력0\u001b[0m\u001b[0;34m\u001b[0m\u001b[0;34m\u001b[0m\u001b[0m\n\u001b[0;32m----> 6\u001b[0;31m \u001b[0mprint\u001b[0m\u001b[0;34m(\u001b[0m\u001b[0;36m1\u001b[0m \u001b[0;34m/\u001b[0m \u001b[0;36m3\u001b[0m \u001b[0;34m*\u001b[0m \u001b[0;36m3.14\u001b[0m \u001b[0;34m*\u001b[0m \u001b[0mrad\u001b[0m \u001b[0;34m**\u001b[0m \u001b[0;36m2\u001b[0m \u001b[0;34m*\u001b[0m \u001b[0mhei\u001b[0m \u001b[0;34m)\u001b[0m\u001b[0;34m\u001b[0m\u001b[0;34m\u001b[0m\u001b[0m\n\u001b[0m\u001b[1;32m      7\u001b[0m \u001b[0;31m#겉넓이 출력\u001b[0m\u001b[0;34m\u001b[0m\u001b[0;34m\u001b[0m\u001b[0m\n\u001b[1;32m      8\u001b[0m \u001b[0mprint\u001b[0m\u001b[0;34m(\u001b[0m\u001b[0;36m3.14\u001b[0m \u001b[0;34m*\u001b[0m \u001b[0mrad\u001b[0m \u001b[0;34m**\u001b[0m \u001b[0;36m2\u001b[0m \u001b[0;34m+\u001b[0m \u001b[0;36m3.14\u001b[0m \u001b[0;34m*\u001b[0m \u001b[0mrad\u001b[0m \u001b[0;34m*\u001b[0m \u001b[0mhei\u001b[0m\u001b[0;34m)\u001b[0m\u001b[0;34m\u001b[0m\u001b[0;34m\u001b[0m\u001b[0m\n",
            "\u001b[0;31mTypeError\u001b[0m: unsupported operand type(s) for ** or pow(): 'str' and 'int'"
          ]
        }
      ]
    },
    {
      "cell_type": "code",
      "source": [
        "#반지름 사용자 입력\n",
        "rad = int(input(\"반지름 값을 입력하세요: \"))\n",
        "#높이 사용자 입력\n",
        "hei = int(input(\"높이 값을 입력하세요: \"))\n",
        "#부피 출력0\n",
        "print(1 / 3 * 3.14 * rad ** 2 * hei )\n",
        "#겉넓이 출력\n",
        "print(3.14 * rad ** 2 + 3.14 * rad * hei)"
      ],
      "metadata": {
        "colab": {
          "base_uri": "https://localhost:8080/"
        },
        "id": "VV9JPMVzToAO",
        "outputId": "fa5cc21a-b16e-46bf-843a-722547cfbc75"
      },
      "execution_count": null,
      "outputs": [
        {
          "output_type": "stream",
          "name": "stdout",
          "text": [
            "반지름 값을 입력하세요: 20\n",
            "높이 값을 입력하세요: 30\n",
            "12559.999999999998\n",
            "3140.0\n"
          ]
        }
      ]
    },
    {
      "cell_type": "code",
      "source": [
        "#반지름 사용자 입력\n",
        "rad = int(input(\"반지름 값을 입력하세요: \"))\n",
        "#높이 사용자 입력\n",
        "hei = int(input(\"높이 값을 입력하세요: \"))\n",
        "#부피 출력0\n",
        "print(\"부피의 값은\", 1 / 3 * 3.14 * rad ** 2 * hei ,\"입니다.\")\n",
        "#겉넓이 출력\n",
        "print(\"겉넓이의 값은\", 3.14 * rad ** 2 + 3.14 * rad * hei ,\"입니다.\")\n",
        "\n",
        "#print 함수는 문자와 숫자 사이의 공백 하나가 존재"
      ],
      "metadata": {
        "colab": {
          "base_uri": "https://localhost:8080/"
        },
        "id": "_SZk19UhT_LD",
        "outputId": "0c535f32-3a24-43df-f2e7-db17704f14e8"
      },
      "execution_count": null,
      "outputs": [
        {
          "output_type": "stream",
          "name": "stdout",
          "text": [
            "반지름 값을 입력하세요: 20\n",
            "높이 값을 입력하세요: 30\n",
            "부피의 값은  12559.999999999998 입니다.\n",
            "겉넓이의 값은  3140.0 입니다.\n"
          ]
        }
      ]
    },
    {
      "cell_type": "code",
      "source": [
        "#반지름 사용자 입력\n",
        "rad = int(input(\"반지름 값을 입력하세요: \"))\n",
        "#높이 사용자 입력\n",
        "hei = int(input(\"높이 값을 입력하세요: \"))\n",
        "#부피 출력0\n",
        "print(\"부피의 값은 \", 1 / 3 * 3.14 * rad ** 2 * hei ,\"입니다.\", sep=\"\")\n",
        "#겉넓이 출력\n",
        "print(\"겉넓이의 값은 \", 3.14 * rad ** 2 + 3.14 * rad * hei ,\"입니다.\", sep=\"\")\n",
        "\n",
        "#sep=\"\" 함수는 공백 없애기"
      ],
      "metadata": {
        "colab": {
          "base_uri": "https://localhost:8080/"
        },
        "id": "N1DE5YkDUf6q",
        "outputId": "937b9ff3-78f5-4c66-c443-011f30d89229"
      },
      "execution_count": null,
      "outputs": [
        {
          "output_type": "stream",
          "name": "stdout",
          "text": [
            "반지름 값을 입력하세요: 20\n",
            "높이 값을 입력하세요: 30\n",
            "부피의 값은 ,12559.999999999998,입니다.\n",
            "겉넓이의 값은 3140.0입니다.\n"
          ]
        }
      ]
    }
  ]
}